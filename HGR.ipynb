{
 "cells": [
  {
   "cell_type": "code",
   "execution_count": 288,
   "id": "f70b753e",
   "metadata": {},
   "outputs": [],
   "source": [
    "import cv2\n",
    "import numpy as np\n",
    "import os\n",
    "from matplotlib import pyplot as plt\n",
    "import time\n",
    "# mediapipe to extract keypoints and values from the hand regions\n",
    "import mediapipe as mp"
   ]
  },
  {
   "cell_type": "code",
   "execution_count": 289,
   "id": "81cf72f4",
   "metadata": {},
   "outputs": [],
   "source": [
    "# pip install opencv-python"
   ]
  },
  {
   "cell_type": "code",
   "execution_count": 290,
   "id": "b71ab5b4",
   "metadata": {},
   "outputs": [],
   "source": [
    "# pip install tensorflow"
   ]
  },
  {
   "cell_type": "code",
   "execution_count": 291,
   "id": "fd30418f",
   "metadata": {},
   "outputs": [],
   "source": [
    "# pip install scikit-learn"
   ]
  },
  {
   "cell_type": "code",
   "execution_count": 292,
   "id": "4f0090ae",
   "metadata": {},
   "outputs": [],
   "source": [
    "#pip install mediapipe"
   ]
  },
  {
   "cell_type": "markdown",
   "id": "1d29c679",
   "metadata": {},
   "source": [
    "## Keypoints using Mediapipe holistic "
   ]
  },
  {
   "cell_type": "code",
   "execution_count": 293,
   "id": "67947dd4",
   "metadata": {},
   "outputs": [],
   "source": [
    "# mediapipe holistic for downloading and leveraging the model\n",
    "mpHolistic = mp.solutions.holistic\n",
    "\n",
    "# mediapipe drawing utilities for drawing the keypoints on the face and hands\n",
    "mpDrawing = mp.solutions.drawing_utils"
   ]
  },
  {
   "cell_type": "code",
   "execution_count": 294,
   "id": "3da9576d",
   "metadata": {},
   "outputs": [],
   "source": [
    "# read the image and make predictions\n",
    "def mpDetection(image, model):\n",
    "    \n",
    "    # convert BGR image format into RGB as open-cv reads the image data in RGB, however, mediapipe detects image in RGB format\n",
    "    image = cv2.cvtColor(image, cv2.COLOR_BGR2RGB)\n",
    "    \n",
    "    # make the image unwritable for saving the memory consumption\n",
    "    image.flags.writeable = False\n",
    "    \n",
    "    # make the prediction using mediapipe\n",
    "    results = model.process(image)\n",
    "    \n",
    "    # make the image writable\n",
    "    image.flags.writeable = True\n",
    "    \n",
    "    # again, convert the image format into original ==> RGB to BGR\n",
    "    image = cv2.cvtColor(image, cv2.COLOR_RGB2BGR)\n",
    "    \n",
    "    return image, results"
   ]
  },
  {
   "cell_type": "code",
   "execution_count": 295,
   "id": "9a87af70",
   "metadata": {},
   "outputs": [],
   "source": [
    "# draw the landmarks on the face and hands\n",
    "\n",
    "def drawLandmarks(image, results):\n",
    "    # mpDrawing.draw_landmarks(image, results.face_landmarks, mpHolistic.FACE_CONNECTIONS)\n",
    "    # draw the landmarks by passing image, landmarks and connections in the draw_landmarks function\n",
    "    mpDrawing.draw_landmarks(image, results.pose_landmarks, mpHolistic.POSE_CONNECTIONS)\n",
    "    mpDrawing.draw_landmarks(image, results.left_hand_landmarks, mpHolistic.HAND_CONNECTIONS)\n",
    "    mpDrawing.draw_landmarks(image, results.right_hand_landmarks, mpHolistic.HAND_CONNECTIONS)\n"
   ]
  },
  {
   "cell_type": "code",
   "execution_count": 296,
   "id": "ca11df2b",
   "metadata": {},
   "outputs": [],
   "source": [
    "# add colors on the landmarks\n",
    "def drawColorfulLandmarks(image, results):\n",
    "    \n",
    "    \n",
    "    # add grey color on the pose (between wrist and shoulder)\n",
    "    mpDrawing.draw_landmarks(image, results.pose_landmarks, mpHolistic.POSE_CONNECTIONS, \n",
    "                               mpDrawing.DrawingSpec(color=(80,22,10), thickness=2, circle_radius=4), \n",
    "                             mpDrawing.DrawingSpec(color=(80,44,121), thickness=2, circle_radius=2)\n",
    "                            )\n",
    "    # add pink color on the landmarks of the left hand\n",
    "    mpDrawing.draw_landmarks(image, results.left_hand_landmarks, mpHolistic.HAND_CONNECTIONS, \n",
    "                              mpDrawing.DrawingSpec(color=(121,22,76), thickness=2, circle_radius=4), \n",
    "                             mpDrawing.DrawingSpec(color=(121,44,250), thickness=2, circle_radius=2)\n",
    "                            )\n",
    "    \n",
    "    # add blue color on the landmarks of the right hand\n",
    "    mpDrawing.draw_landmarks(image, results.right_hand_landmarks, mpHolistic.HAND_CONNECTIONS, \n",
    "                               mpDrawing.DrawingSpec(color=(245,117,66), thickness=2, circle_radius=4), \n",
    "                             mpDrawing.DrawingSpec(color=(245,66,230), thickness=2, circle_radius=2)\n",
    "                            )\n",
    "    "
   ]
  },
  {
   "cell_type": "code",
   "execution_count": null,
   "id": "2a3360ee",
   "metadata": {},
   "outputs": [],
   "source": []
  },
  {
   "cell_type": "code",
   "execution_count": null,
   "id": "0516a398",
   "metadata": {
    "scrolled": true
   },
   "outputs": [],
   "source": [
    "# capture camera\n",
    "cap = cv2.VideoCapture(0) \n",
    "if not cap.isOpened():\n",
    "    print(\"Error: Could not open webcam.\")\n",
    "    exit()\n",
    "\n",
    "# set the mediapipe model\n",
    "with mpHolistic.Holistic(min_detection_confidence=0.5, min_tracking_confidence=0.5) as holistic:\n",
    "\n",
    "    # loop the frames of the webcam\n",
    "    while cap.isOpened():\n",
    "        # read the frame/image from the webcam\n",
    "        ret, frame = cap.read()\n",
    "\n",
    "        # make the detection\n",
    "        image, results = mpDetection(frame, holistic)\n",
    "        # print(results)\n",
    "        \n",
    "        # draw the landmarks\n",
    "        drawColorfulLandmarks(image, results)\n",
    "\n",
    "\n",
    "        # check if the frame was read successfully\n",
    "        if not ret:\n",
    "            print(\"Error: Could not read frame.\")\n",
    "            break\n",
    "\n",
    "        # show the window\n",
    "        cv2.imshow('Hand Gesture Recognition System with LSTM', image)\n",
    "\n",
    "        # break the loop when 'q' key is pressed\n",
    "        if cv2.waitKey(10) & 0xFF == ord('q'):\n",
    "                break\n",
    "\n",
    "# release the webcam\n",
    "cap.release()\n",
    "\n",
    "# close all OpenCV windows\n",
    "cv2.destroyAllWindows()"
   ]
  },
  {
   "cell_type": "code",
   "execution_count": null,
   "id": "21140c17",
   "metadata": {},
   "outputs": [],
   "source": []
  },
  {
   "cell_type": "code",
   "execution_count": null,
   "id": "655caa43",
   "metadata": {},
   "outputs": [],
   "source": [
    "# visualizing the last image/frame\n",
    "plt.imshow(cv2.cvtColor(frame, cv2.COLOR_BGR2RGB))\n"
   ]
  },
  {
   "cell_type": "code",
   "execution_count": null,
   "id": "1f2699cc",
   "metadata": {},
   "outputs": [],
   "source": [
    "# drawing the landmarks on the frame without styling\n",
    "drawLandmarks(frame, results)\n",
    "plt.imshow(cv2.cvtColor(frame, cv2.COLOR_BGR2RGB))"
   ]
  },
  {
   "cell_type": "code",
   "execution_count": null,
   "id": "e945682d",
   "metadata": {},
   "outputs": [],
   "source": [
    "# drawing the landmarks on the frame with styling\n",
    "drawColorfulLandmarks(frame, results)\n",
    "plt.imshow(cv2.cvtColor(frame, cv2.COLOR_BGR2RGB))"
   ]
  },
  {
   "cell_type": "code",
   "execution_count": null,
   "id": "7a97a2a0",
   "metadata": {},
   "outputs": [],
   "source": [
    "\n",
    "print('Face landmarks number: ', len(results.face_landmarks.landmark) )  # 468\n",
    "\n",
    "print('Pose landmarks number: ', len(results.pose_landmarks.landmark) )  # 33\n",
    "\n",
    "print('Right landmarks number: ', len(results.right_hand_landmarks.landmark) )  # 21\n",
    "\n",
    "# print('Left landmarks number: ', len(results.left_hand_landmarks.landmark) )  # 21\n",
    "\n"
   ]
  },
  {
   "cell_type": "code",
   "execution_count": null,
   "id": "1fc49ad7",
   "metadata": {},
   "outputs": [],
   "source": [
    "from sklearn.model_selection import train_test_split\n",
    "from tensorflow.keras.utils import to_categorical"
   ]
  },
  {
   "cell_type": "code",
   "execution_count": null,
   "id": "400cfcee",
   "metadata": {},
   "outputs": [],
   "source": [
    "results.face_landmarks.landmark"
   ]
  },
  {
   "cell_type": "code",
   "execution_count": null,
   "id": "af952a0a",
   "metadata": {},
   "outputs": [],
   "source": [
    "mpHolistic.HAND_CONNECTIONS"
   ]
  },
  {
   "cell_type": "code",
   "execution_count": null,
   "id": "63d56e52",
   "metadata": {},
   "outputs": [],
   "source": []
  },
  {
   "cell_type": "code",
   "execution_count": null,
   "id": "c60ea761",
   "metadata": {},
   "outputs": [],
   "source": []
  },
  {
   "cell_type": "code",
   "execution_count": null,
   "id": "23fc0f67",
   "metadata": {},
   "outputs": [],
   "source": []
  }
 ],
 "metadata": {
  "kernelspec": {
   "display_name": "Python 3 (ipykernel)",
   "language": "python",
   "name": "python3"
  },
  "language_info": {
   "codemirror_mode": {
    "name": "ipython",
    "version": 3
   },
   "file_extension": ".py",
   "mimetype": "text/x-python",
   "name": "python",
   "nbconvert_exporter": "python",
   "pygments_lexer": "ipython3",
   "version": "3.11.5"
  }
 },
 "nbformat": 4,
 "nbformat_minor": 5
}
